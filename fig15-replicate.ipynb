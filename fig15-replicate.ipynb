{
 "metadata": {
  "name": "",
  "signature": "sha256:0968b955cceba9d1b0799e857499c8b5e0a3349b93827ea64ac719666d546e75"
 },
 "nbformat": 3,
 "nbformat_minor": 0,
 "worksheets": [
  {
   "cells": [
    {
     "cell_type": "code",
     "collapsed": false,
     "input": [
      "import matplotlib.pyplot as plt\n",
      "import matplotlib.pylab as pyl\n",
      "import numpy as np\n",
      "import csv"
     ],
     "language": "python",
     "metadata": {},
     "outputs": []
    },
    {
     "cell_type": "code",
     "collapsed": false,
     "input": [
      "def fig_to_file(fig, filename, ext):\n",
      "    fig.savefig(\"graphs/%s.%s\" % (filename, ext), format=ext, bbox_inches='tight')"
     ],
     "language": "python",
     "metadata": {},
     "outputs": []
    },
    {
     "cell_type": "code",
     "collapsed": false,
     "input": [
      "def set_paper_rcs():\n",
      "  fig_font = {'family':'sans-serif','sans-serif':['Helvetica'],\n",
      "               'serif':['Helvetica'],'size':9}\n",
      "  rc('font',**fig_font)\n",
      "  mpl.rc('text', usetex=True)\n",
      "  mpl.rc('figure', figsize=(3.33,2.22))\n",
      "#  rc('figure.subplot', left=0.10, top=0.90, bottom=0.12, right=0.95)\n",
      "  mpl.rc('axes', linewidth=0.5)\n",
      "  mpl.rc('lines', linewidth=0.5)\n",
      "set_paper_rcs()"
     ],
     "language": "python",
     "metadata": {},
     "outputs": []
    },
    {
     "cell_type": "code",
     "collapsed": false,
     "input": [
      "figs = ['org','expo','combo','fixed']\n",
      "graph_a = ['12-24','25-50','50-100','100-200','150-300']\n",
      "graph_b = ['150-151','150-155','150-175','150-200','150-300']"
     ],
     "language": "python",
     "metadata": {},
     "outputs": []
    },
    {
     "cell_type": "code",
     "collapsed": false,
     "input": [
      "#read data in\n",
      "data_dict = {}\n",
      "for figure in figs:\n",
      "    data_dict[figure] = {}\n",
      "    for line in graph_a + graph_b:\n",
      "        file = open('raw/'+figure+'/'+line+'results.log')\n",
      "        file_reader = csv.reader(file,delimiter=',')\n",
      "        data_dict[figure][line] = []\n",
      "        for point in file_reader:\n",
      "            data_dict[figure][line].append(float(point[0]))\n",
      "        data_dict[figure][line].sort()"
     ],
     "language": "python",
     "metadata": {},
     "outputs": []
    },
    {
     "cell_type": "code",
     "collapsed": false,
     "input": [
      "# convert to ms floats\n",
      "# flt_dict = {}\n",
      "# for line in graph_a + graph_b:\n",
      "#     flt_dict[line] = []\n",
      "#     for point in data_dict[line]:\n",
      "#         flt_dict[line].append(float(point))\n",
      "#     flt_dict[line].sort()"
     ],
     "language": "python",
     "metadata": {},
     "outputs": []
    },
    {
     "cell_type": "code",
     "collapsed": false,
     "input": [
      "y_axis = []\n",
      "size = len(data_dict['org'][graph_a[0]])\n",
      "for y in range (1,size+1):\n",
      "    y_axis.append(y*100.0/size)"
     ],
     "language": "python",
     "metadata": {},
     "outputs": []
    },
    {
     "cell_type": "code",
     "collapsed": false,
     "input": [
      "def plot_graph_a (data_x,data_y,name):\n",
      "    fig = plt.figure()\n",
      "\n",
      "    axes = fig.add_axes([0.1, 0.1, 0.8, 0.8]) # left, bottom, width, height (range 0 to 1)\n",
      "\n",
      "    for line in graph_a:\n",
      "        if (len(data_x[line]) != len(data_y)):\n",
      "            print (line)\n",
      "        axes.plot(data_x[line],data_y)\n",
      "\n",
      "    # labels\n",
      "    axes.set_xlabel('Time to elect leader (ms)')\n",
      "    axes.set_ylabel('Cummulative percent')\n",
      "    axes.set_title('Time taken to elect leader',fontsize=9)\n",
      "\n",
      "    # ticks & axes\n",
      "\n",
      "    y_marked = [0,20,40,60,80,100]\n",
      "    axes.set_yticks(y_marked)\n",
      "    axes.set_yticklabels(['0%','20%','40%','60%','80%','100%'])\n",
      "    axes.set_xlim([0,400])\n",
      "\n",
      "    axes.legend(graph_a,loc=4)\n",
      "    fig_to_file(fig,'graph_a_'+name,'pdf')"
     ],
     "language": "python",
     "metadata": {},
     "outputs": []
    },
    {
     "cell_type": "code",
     "collapsed": false,
     "input": [
      "def plot_graph_b(data_x,data_y,name,x_max=10000,log=True,letter=''):\n",
      "    fig = plt.figure()\n",
      "\n",
      "    axes = fig.add_axes([0.1, 0.1, 0.8, 0.8]) # left, bottom, width, height (range 0 to 1)\n",
      "\n",
      "    for line in graph_b:\n",
      "        if (len(data_x[line]) != len(data_y)):\n",
      "            print (line)\n",
      "            print (len(y_axis))\n",
      "        axes.plot(data_x[line],data_y)\n",
      "\n",
      "    # labels\n",
      "    axes.set_xlabel('Time to elect leader (ms)')\n",
      "    axes.set_ylabel('Cummulative percent')\n",
      "    axes.set_title(letter+'Time taken to elect leader',fontsize=9)\n",
      "\n",
      "    # ticks & axes\n",
      "    if (log):\n",
      "        axes.set_xscale(\"log\")\n",
      "        x_marked = [75, 150, 300, 1000, 3000, 10000]\n",
      "        axes.set_xticks(x_marked)\n",
      "        axes.set_xticklabels(x_marked)\n",
      "    axes.set_xlim([75,x_max])\n",
      "\n",
      "    y_marked = [0,20,40,60,80,100]\n",
      "    axes.set_yticks(y_marked)\n",
      "    axes.set_yticklabels(['0%','20%','40%','60%','80%','100%'])\n",
      "\n",
      "    axes.legend(graph_b,loc=4)\n",
      "    fig_to_file(fig,'graph_b_'+name,'pdf')"
     ],
     "language": "python",
     "metadata": {},
     "outputs": []
    },
    {
     "cell_type": "code",
     "collapsed": false,
     "input": [
      "# collect pkt data\n",
      "pkt_data = {} \n",
      "fig = plt.figure()\n",
      "ax = fig.add_axes([0.1, 0.1, 0.8, 0.8]) # left, bottom, width, height (range 0 to 1)\n",
      "width = 0.2\n",
      "for line in graph_a + graph_b:\n",
      "    pkt_data[line] = {}\n",
      "    for figure in figs:\n",
      "        pkt_data[line][figure] = []\n",
      "        file = open('raw/'+figure+'/'+line+'results.log')\n",
      "        file_reader = csv.reader(file,delimiter=',')\n",
      "        for point in file_reader:\n",
      "            pkt_data[line][figure].append(int(point[1]))\n",
      "        print (line + figure + str(np.mean(pkt_data[line][figure])))\n",
      "\n",
      "# plot hist\n",
      "hist_data = pkt_data['150-200']['org']\n",
      "print (hist_data)\n",
      "min = np.amin(hist_data)\n",
      "max = np.amax(hist_data)\n",
      "ax.hist(hist_data, max-min,\n",
      "        range=[min,max], normed=True,histtype='bar',linewidth=0.5)\n",
      "ax.set_xlabel('No. of packets to elect leader')\n",
      "ax.set_ylabel('Probability')\n",
      "fig.show()\n",
      "fig_to_file(fig,'pkt_histogram','pdf')\n"
     ],
     "language": "python",
     "metadata": {},
     "outputs": []
    },
    {
     "cell_type": "code",
     "collapsed": false,
     "input": [
      "plot_graph_a(data_dict['org'],y_axis,'org')\n",
      "plot_graph_b(data_dict['org'],y_axis,'org')\n",
      "\n",
      "plot_graph_b(data_dict['fixed'],y_axis,'fixed',400,False,'(a) ')\n",
      "plot_graph_b(data_dict['expo'],y_axis,'expo',letter='(b) ')\n",
      "plot_graph_b(data_dict['combo'],y_axis,'combo',400,False,'(c) ')"
     ],
     "language": "python",
     "metadata": {},
     "outputs": []
    },
    {
     "cell_type": "code",
     "collapsed": false,
     "input": [
      "# initialisation\n",
      "diago_percent = {}\n",
      "diago_time = {}\n",
      "for line in graph_a + graph_b:\n",
      "    diago_percent[line] = []\n",
      "    diago_time[line] = []\n",
      "# reading in diago's results\n",
      "file = open('raw/usableFormat.csv')\n",
      "file_reader = csv.reader(file,delimiter=',')\n",
      "next(file_reader, None)\n",
      "for row in file_reader:\n",
      "    if (row[0] != '150-150'):\n",
      "        diago_percent[row[0]].append(100*float(row[1]))\n",
      "        diago_time[row[0]].append(row[2])"
     ],
     "language": "python",
     "metadata": {},
     "outputs": []
    },
    {
     "cell_type": "code",
     "collapsed": false,
     "input": [
      "plot_graph_a(diago_time,diago_percent['150-300'],'diago')\n",
      "plot_graph_b(diago_time,diago_percent['150-300'],'diago')"
     ],
     "language": "python",
     "metadata": {},
     "outputs": []
    },
    {
     "cell_type": "code",
     "collapsed": false,
     "input": [
      "def update_paper_figs():\n",
      "    import os\n",
      "    os.system('cp graphs/* ~/dissertation/sig-ops/graphs')"
     ],
     "language": "python",
     "metadata": {},
     "outputs": []
    },
    {
     "cell_type": "code",
     "collapsed": false,
     "input": [
      "# update_paper_figs()"
     ],
     "language": "python",
     "metadata": {},
     "outputs": []
    },
    {
     "cell_type": "code",
     "collapsed": false,
     "input": [
      "# from collections import Counter\n",
      "# pkt_data = {} \n",
      "# fig = plt.figure()\n",
      "# ax = fig.add_axes([0.1, 0.1, 0.8, 0.8]) # left, bottom, width, height (range 0 to 1)\n",
      "# width = 0.2\n",
      "# for figure in figs:\n",
      "#     pkt_data[figure] = []\n",
      "#     line = '150-175'\n",
      "#     file = open('raw/'+figure+'/'+line+'results.log')\n",
      "#     file_reader = csv.reader(file,delimiter=',')\n",
      "#     for point in file_reader:\n",
      "#         pkt_data[figure].append(int(point[1]))\n",
      "#     print (figure + str(np.mean(pkt_data[figure])))\n",
      "# samples = np.array(list(pkt_data.values()))\n",
      "# print (samples)\n",
      "# ax.hist( [pkt_data['org'],pkt_data['fixed']], 20,\n",
      "#         range=[np.amin(samples),np.amax(samples)], normed=False,\n",
      "#         label=['orginal','combo'],histtype='bar')\n",
      "# ax.set_xlabel( figure )\n",
      "# ax.set_ylabel( 'Packets' )\n",
      "# fig.show()\n",
      "# print(Counter(pkt_data['org']))\n",
      "fig_to_file(fig,'testing','pdf')"
     ],
     "language": "python",
     "metadata": {},
     "outputs": []
    },
    {
     "cell_type": "code",
     "collapsed": false,
     "input": [
      "data_dict = {}\n",
      "for numb in [1,3,5]:\n",
      "    data_dict[numb] = {}\n",
      "    for line in graph_a + graph_b:\n",
      "        file = open('raw/ine-'+numb+'/'+line+'results.log')\n",
      "        file_reader = csv.reader(file,delimiter=',')\n",
      "        data_dict[numb][line] = []\n",
      "        for point in file_reader:\n",
      "            data_dict[numb][line].append(float(point[0]))\n",
      "        data_dict[numb][line].sort()\n",
      "    plot_graph_b(data_dict[num],y_axis,'fixed',400,False,str(numb))"
     ],
     "language": "python",
     "metadata": {},
     "outputs": []
    },
    {
     "cell_type": "code",
     "collapsed": false,
     "input": [],
     "language": "python",
     "metadata": {},
     "outputs": []
    },
    {
     "cell_type": "code",
     "collapsed": false,
     "input": [],
     "language": "python",
     "metadata": {},
     "outputs": []
    }
   ],
   "metadata": {}
  }
 ]
}